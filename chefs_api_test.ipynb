{
 "cells": [
  {
   "cell_type": "code",
   "execution_count": 1,
   "id": "73202eb5",
   "metadata": {},
   "outputs": [],
   "source": [
    "import json\n",
    "import pandas as pd\n",
    "import requests\n",
    "from requests.auth import HTTPBasicAuth"
   ]
  },
  {
   "cell_type": "code",
   "execution_count": 2,
   "id": "7989534e",
   "metadata": {},
   "outputs": [],
   "source": [
    "# API endpoint and credentials\n",
    "form_id = \"a9e9d096-14fe-4926-871f-476f50f7cbad\" #get his from the form URL\n",
    "api_key = \"06345ebf-3963-4f4c-a59b-a7e4bd87f325\" #generate this from the form API section\n",
    "api_url = f\"https://submit.digital.gov.bc.ca/app/api/v1/forms/{form_id}/export\""
   ]
  },
  {
   "cell_type": "code",
   "execution_count": 3,
   "id": "f46ab2f6",
   "metadata": {},
   "outputs": [],
   "source": [
    "# Parameters for the export\n",
    "params = {\n",
    "    \"format\": \"json\",\n",
    "    \"type\": \"submissions\",\n",
    "    \"version\": \"1\",\n",
    "}"
   ]
  },
  {
   "cell_type": "code",
   "execution_count": 4,
   "id": "7fbdc19a",
   "metadata": {},
   "outputs": [],
   "source": [
    "#Make a request\n",
    "response = requests.get(api_url, \n",
    "                        auth=HTTPBasicAuth(form_id, api_key), \n",
    "                        params=params)\n",
    "response.raise_for_status()"
   ]
  },
  {
   "cell_type": "code",
   "execution_count": 7,
   "id": "b3b1b759",
   "metadata": {},
   "outputs": [
    {
     "data": {
      "text/plain": [
       "[{'form': {'submissionId': 'fe0aaffa-3de1-4a48-9561-db42442c9bc3',\n",
       "   'confirmationId': 'FE0AAFFA',\n",
       "   'formName': 'Testing CHEFS for CWG project',\n",
       "   'version': 1,\n",
       "   'createdAt': '2024-06-07T16:20:32.979Z',\n",
       "   'fullName': 'Labiadh, Moez WLRS:EX',\n",
       "   'username': 'MLABIADH',\n",
       "   'email': 'moez.labiadh@gov.bc.ca'},\n",
       "  'whidId': 654989,\n",
       "  'lastName': 'morning',\n",
       "  'nrRegion': 'kootenay',\n",
       "  'firstName': 'Good',\n",
       "  'lateEntry': False},\n",
       " {'form': {'submissionId': '81d3a225-3a11-4af8-a4f2-6228f6878ec6',\n",
       "   'confirmationId': '81D3A225',\n",
       "   'formName': 'Testing CHEFS for CWG project',\n",
       "   'version': 1,\n",
       "   'createdAt': '2024-06-07T16:19:57.467Z',\n",
       "   'fullName': 'Labiadh, Moez WLRS:EX',\n",
       "   'username': 'MLABIADH',\n",
       "   'email': 'moez.labiadh@gov.bc.ca'},\n",
       "  'whidId': 5454,\n",
       "  'lastName': 'World',\n",
       "  'nrRegion': 'westCoast',\n",
       "  'firstName': 'Hello',\n",
       "  'lateEntry': False}]"
      ]
     },
     "execution_count": 7,
     "metadata": {},
     "output_type": "execute_result"
    }
   ],
   "source": [
    "#Read the response - form submissions\n",
    "submissions = response.json()\n",
    "submissions"
   ]
  },
  {
   "cell_type": "code",
   "execution_count": 9,
   "id": "60e122f2",
   "metadata": {},
   "outputs": [
    {
     "data": {
      "text/html": [
       "<div>\n",
       "<style scoped>\n",
       "    .dataframe tbody tr th:only-of-type {\n",
       "        vertical-align: middle;\n",
       "    }\n",
       "\n",
       "    .dataframe tbody tr th {\n",
       "        vertical-align: top;\n",
       "    }\n",
       "\n",
       "    .dataframe thead th {\n",
       "        text-align: right;\n",
       "    }\n",
       "</style>\n",
       "<table border=\"1\" class=\"dataframe\">\n",
       "  <thead>\n",
       "    <tr style=\"text-align: right;\">\n",
       "      <th></th>\n",
       "      <th>form</th>\n",
       "      <th>whidId</th>\n",
       "      <th>lastName</th>\n",
       "      <th>nrRegion</th>\n",
       "      <th>firstName</th>\n",
       "      <th>lateEntry</th>\n",
       "    </tr>\n",
       "  </thead>\n",
       "  <tbody>\n",
       "    <tr>\n",
       "      <th>0</th>\n",
       "      <td>{'submissionId': 'fe0aaffa-3de1-4a48-9561-db42...</td>\n",
       "      <td>654989</td>\n",
       "      <td>morning</td>\n",
       "      <td>kootenay</td>\n",
       "      <td>Good</td>\n",
       "      <td>False</td>\n",
       "    </tr>\n",
       "    <tr>\n",
       "      <th>1</th>\n",
       "      <td>{'submissionId': '81d3a225-3a11-4af8-a4f2-6228...</td>\n",
       "      <td>5454</td>\n",
       "      <td>World</td>\n",
       "      <td>westCoast</td>\n",
       "      <td>Hello</td>\n",
       "      <td>False</td>\n",
       "    </tr>\n",
       "  </tbody>\n",
       "</table>\n",
       "</div>"
      ],
      "text/plain": [
       "                                                form  whidId lastName  \\\n",
       "0  {'submissionId': 'fe0aaffa-3de1-4a48-9561-db42...  654989  morning   \n",
       "1  {'submissionId': '81d3a225-3a11-4af8-a4f2-6228...    5454    World   \n",
       "\n",
       "    nrRegion firstName  lateEntry  \n",
       "0   kootenay      Good      False  \n",
       "1  westCoast     Hello      False  "
      ]
     },
     "execution_count": 9,
     "metadata": {},
     "output_type": "execute_result"
    }
   ],
   "source": [
    "# Convert submissions to pandas DataFrame\n",
    "df = pd.DataFrame(submissions)\n",
    "df"
   ]
  },
  {
   "cell_type": "code",
   "execution_count": null,
   "id": "5b3f941f",
   "metadata": {},
   "outputs": [],
   "source": []
  }
 ],
 "metadata": {
  "kernelspec": {
   "display_name": "Python 3 (ipykernel)",
   "language": "python",
   "name": "python3"
  },
  "language_info": {
   "codemirror_mode": {
    "name": "ipython",
    "version": 3
   },
   "file_extension": ".py",
   "mimetype": "text/x-python",
   "name": "python",
   "nbconvert_exporter": "python",
   "pygments_lexer": "ipython3",
   "version": "3.10.8"
  }
 },
 "nbformat": 4,
 "nbformat_minor": 5
}
